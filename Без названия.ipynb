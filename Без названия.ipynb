{
 "cells": [
  {
   "cell_type": "code",
   "execution_count": 5,
   "metadata": {},
   "outputs": [],
   "source": [
    "import requests\n",
    "import pandas as pd\n",
    "import json\n",
    "\n",
    "\n",
    "payload = {}\n",
    "headers= {}"
   ]
  },
  {
   "cell_type": "code",
   "execution_count": 2,
   "metadata": {},
   "outputs": [],
   "source": [
    "def url(what, name, other):\n",
    "    api_key = 'k_lcsb8452'\n",
    "    return 'https://imdb-api.com/en/API/' + what + '/' + api_key + '/' + str(name) + other"
   ]
  },
  {
   "cell_type": "code",
   "execution_count": 3,
   "metadata": {},
   "outputs": [],
   "source": [
    "def one(name):\n",
    "    resp = requests.get(url('SearchTitle', name, ''), headers=headers)\n",
    "    data = json.loads(resp.text)\n",
    "    id_film = data['results'][0]['id']\n",
    "    \n",
    "    resp3 = requests.get(url('Title', id_film, ''), headers=headers)\n",
    "    data3 = json.loads(resp3.text)\n",
    "    seasons = len(data3['tvSeriesInfo']['seasons'])\n",
    "\n",
    "    episodes_all = 1\n",
    "    for season in range(1, seasons + 1):\n",
    "        resp2 = requests.get(url('SeasonEpisodes', id_film, '/' + str(season)), headers=headers)\n",
    "        id_season = json.loads(resp2.text)\n",
    "        for episodes in range(len(id_season['episodes'])):\n",
    "            episodeNumber = id_season['episodes'][episodes]['episodeNumber']\n",
    "            imDbRating = id_season['episodes'][episodes]['imDbRating']\n",
    "            with open('attack.txt', 'a') as file:\n",
    "                file.write(str(name) + ',' + str(season) + ',' + \n",
    "                           str(episodeNumber) + ',' + str(imDbRating) + ',' + str(episodes_all)\n",
    "                           + '\\n')\n",
    "            episodes_all += 1"
   ]
  },
  {
   "cell_type": "code",
   "execution_count": 11,
   "metadata": {},
   "outputs": [],
   "source": [
    "one('Death Note')"
   ]
  },
  {
   "cell_type": "code",
   "execution_count": 117,
   "metadata": {},
   "outputs": [
    {
     "name": "stdout",
     "output_type": "stream",
     "text": [
      "    season  episode  rating\n",
      "0        1        1     9.1\n",
      "1        1        2     8.5\n",
      "2        1        3     8.1\n",
      "3        1        4     8.6\n",
      "4        1        5     9.2\n",
      "..     ...      ...     ...\n",
      "82       4       24     8.5\n",
      "83       4       25     8.7\n",
      "84       4       26     9.2\n",
      "85       4       27     9.6\n",
      "86       4       28     9.7\n",
      "\n",
      "[87 rows x 3 columns]\n"
     ]
    },
    {
     "data": {
      "text/plain": [
       "<AxesSubplot:>"
      ]
     },
     "execution_count": 117,
     "metadata": {},
     "output_type": "execute_result"
    },
    {
     "data": {
      "image/png": "[encoded data removed]",
      "text/plain": [
       "<Figure size 432x288 with 1 Axes>"
      ]
     },
     "metadata": {
      "needs_background": "light"
     },
     "output_type": "display_data"
    }
   ],
   "source": [
    "import pandas as pd\n",
    "datas = pd.read_csv('attack.txt', sep=',')\n",
    "print(datas)\n",
    "# datas.plot()"
   ]
  },
  {
   "cell_type": "code",
   "execution_count": null,
   "metadata": {},
   "outputs": [],
   "source": []
  },
  {
   "cell_type": "code",
   "execution_count": null,
   "metadata": {},
   "outputs": [],
   "source": []
  }
 ],
 "metadata": {
  "kernelspec": {
   "display_name": "Python 3",
   "language": "python",
   "name": "python3"
  },
  "language_info": {
   "codemirror_mode": {
    "name": "ipython",
    "version": 3
   },
   "file_extension": ".py",
   "mimetype": "text/x-python",
   "name": "python",
   "nbconvert_exporter": "python",
   "pygments_lexer": "ipython3",
   "version": "3.8.8"
  }
 },
 "nbformat": 4,
 "nbformat_minor": 4
}
